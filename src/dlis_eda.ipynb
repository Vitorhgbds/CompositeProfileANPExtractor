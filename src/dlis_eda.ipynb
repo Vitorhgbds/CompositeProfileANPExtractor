{
 "cells": [
  {
   "cell_type": "code",
   "execution_count": 12,
   "metadata": {},
   "outputs": [
    {
     "data": {
      "text/plain": [
       "------------\n",
       "Logical File\n",
       "------------\n",
       "Description : LogicalFile(1AB  0001  SPBRA1AB  0001  SP1)\n",
       "Frames      : 1\n",
       "Channels    : 5\n",
       "\n",
       "Known objects\n",
       "--\n",
       "ORIGIN      : 1\n",
       "FRAME       : 1\n",
       "PARAMETER   : 105\n",
       "TOOL        : 1\n",
       "CHANNEL     : 5\n",
       "FILE-HEADER : 1\n"
      ]
     },
     "execution_count": 12,
     "metadata": {},
     "output_type": "execute_result"
    }
   ],
   "source": [
    "from dlisio import dlis\n",
    "\n",
    "# Load the DLIS file\n",
    "filename = './data/EDA/1AB__0001__SP_1AB__0001__SP.dlis'\n",
    "f, *tail = dlis.load(filename)\n",
    "\n",
    "f.describe()"
   ]
  },
  {
   "cell_type": "code",
   "execution_count": 25,
   "metadata": {},
   "outputs": [
    {
     "name": "stdout",
     "output_type": "stream",
     "text": [
      "None\n",
      "None\n",
      "None\n",
      "None\n",
      "m\n"
     ]
    }
   ],
   "source": [
    "for frame in f.frames:\n",
    "    for channel in f.channels:\n",
    "        if channel.name == frame.index:\n",
    "            depth_units = channel.units\n",
    "        \n",
    "        \n",
    "\n",
    "for channel in f.channels:\n",
    "    print(channel.units)"
   ]
  },
  {
   "cell_type": "code",
   "execution_count": null,
   "metadata": {},
   "outputs": [],
   "source": []
  },
  {
   "cell_type": "code",
   "execution_count": null,
   "metadata": {},
   "outputs": [],
   "source": []
  }
 ],
 "metadata": {
  "kernelspec": {
   "display_name": "geoai",
   "language": "python",
   "name": "python3"
  },
  "language_info": {
   "codemirror_mode": {
    "name": "ipython",
    "version": 3
   },
   "file_extension": ".py",
   "mimetype": "text/x-python",
   "name": "python",
   "nbconvert_exporter": "python",
   "pygments_lexer": "ipython3",
   "version": "3.10.15"
  }
 },
 "nbformat": 4,
 "nbformat_minor": 2
}
